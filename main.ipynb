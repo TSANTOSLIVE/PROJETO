{
 "cells": [
  {
   "cell_type": "code",
   "execution_count": 45,
   "metadata": {},
   "outputs": [],
   "source": [
    "import pandas as pd\n",
    "import matplotlib.ticker as ticker\n",
    "import matplotlib.pyplot as plt\n",
    "import numpy as np"
   ]
  },
  {
   "cell_type": "code",
   "execution_count": 46,
   "metadata": {},
   "outputs": [],
   "source": [
    "# Importando os dados\n",
    "df_exp_vinhos  = pd.read_csv('Data/output/exportacao_vinhos.csv', encoding=\"utf-8\")\n",
    "df_meteorologia_ano = pd.read_csv('Data/output/Meteorologia_Ano_mediana.csv')\n",
    "df_inflacao = pd.read_csv('Data/output/inflacao_brasil.csv', sep=';', encoding=\"utf-8\")\n",
    "df_pib_br = pd.read_csv('Data/output/pib_brasil.csv', sep=';', encoding=\"utf-8\")\n",
    "df_pib_rs = pd.read_csv('Data/output/pib_rs.csv', sep=';', encoding=\"utf-8\")\n",
    "df_dolar = pd.read_csv('Data/output/dolar_mediana_ano.csv', encoding=\"utf-8\")"
   ]
  },
  {
   "cell_type": "code",
   "execution_count": 47,
   "metadata": {},
   "outputs": [],
   "source": [
    "# Renomeando colunas\n",
    "df_pib_br = df_pib_br.rename(columns={'Valor': 'PIB_Brasil_Trilhoes'})\n",
    "df_pib_rs = df_pib_rs.rename(columns={'Valor': 'PIB_RS_Trilhoes'})"
   ]
  },
  {
   "cell_type": "code",
   "execution_count": 48,
   "metadata": {},
   "outputs": [],
   "source": [
    "# Convertendo os valores para int de Ano nas tabelas de exportação de vinhos e meteorologia\n",
    "df_exp_vinhos['Ano'] = df_exp_vinhos['Ano'].astype(int)\n",
    "df_meteorologia_ano['Ano'] = df_meteorologia_ano['Ano'].astype(int)\n",
    "df_dolar['Ano'] = df_dolar['Ano'].astype(int)"
   ]
  },
  {
   "cell_type": "code",
   "execution_count": 49,
   "metadata": {},
   "outputs": [],
   "source": [
    "# Convertendo os valores para float de Inflação e PIB nas tabelas de inflação e PIB\n",
    "df_inflacao['Inflação'] = df_inflacao['Inflação'].astype(str).str.replace(',', '.').astype(float)\n",
    "df_pib_br['PIB_Brasil_Trilhoes'] = df_pib_br['PIB_Brasil_Trilhoes'].astype(str).str.replace(',', '.').astype(float)\n",
    "df_pib_rs['PIB_RS_Trilhoes'] = df_pib_rs['PIB_RS_Trilhoes'].astype(str).str.replace(',', '.').astype(float)"
   ]
  },
  {
   "cell_type": "code",
   "execution_count": 50,
   "metadata": {},
   "outputs": [],
   "source": [
    "# Ajusando escala do de valores\n",
    "df_pib_br['PIB_Brasil_Trilhoes'] = (df_pib_br['PIB_Brasil_Trilhoes'] / 1e12).round(3)\n",
    "df_pib_rs['PIB_RS_Trilhoes'] = (df_pib_rs['PIB_RS_Trilhoes'] / 1e12).round(3)"
   ]
  },
  {
   "cell_type": "code",
   "execution_count": 51,
   "metadata": {},
   "outputs": [],
   "source": [
    "# União dos dataframes de exportação de vinhos e meteorologia\n",
    "df_unificado = df_exp_vinhos.merge(df_meteorologia_ano[['Ano', 'TempAr', 'Precipitacao']], on='Ano')"
   ]
  },
  {
   "cell_type": "code",
   "execution_count": 52,
   "metadata": {},
   "outputs": [],
   "source": [
    "# União do dataframe unificado com a inflação\n",
    "df_unificado = df_unificado.merge(df_inflacao[['Ano', 'Inflação']], on='Ano')"
   ]
  },
  {
   "cell_type": "code",
   "execution_count": 53,
   "metadata": {},
   "outputs": [],
   "source": [
    "# União do dataframe unificado com o PIB do Brasil\n",
    "df_unificado = df_unificado.merge(df_pib_br[['Ano', 'PIB_Brasil_Trilhoes']], on='Ano')"
   ]
  },
  {
   "cell_type": "code",
   "execution_count": 54,
   "metadata": {},
   "outputs": [],
   "source": [
    "# União do dataframe unificado com o PIB do RS\n",
    "df_unificado = df_unificado.merge(df_pib_rs[['Ano', 'PIB_RS_Trilhoes']], on='Ano')"
   ]
  },
  {
   "cell_type": "code",
   "execution_count": 55,
   "metadata": {},
   "outputs": [],
   "source": [
    "# União do dataframe unificado com o dolar\n",
    "df_unificado = df_unificado.merge(df_dolar[['Ano', 'USD BRL']], on='Ano')"
   ]
  },
  {
   "cell_type": "code",
   "execution_count": 56,
   "metadata": {},
   "outputs": [],
   "source": [
    "# Ordenando o dataframe por Ano e Pais\n",
    "df_unificado = df_unificado.sort_values(by=['Ano'])"
   ]
  },
  {
   "cell_type": "code",
   "execution_count": 57,
   "metadata": {},
   "outputs": [],
   "source": [
    "# Calculando o valor por litro\n",
    "df_unificado['ValorPorLitro'] = (df_unificado['Valor'] / df_unificado['Litros']).round(2)"
   ]
  },
  {
   "cell_type": "code",
   "execution_count": 58,
   "metadata": {},
   "outputs": [
    {
     "data": {
      "text/html": [
       "<div>\n",
       "<style scoped>\n",
       "    .dataframe tbody tr th:only-of-type {\n",
       "        vertical-align: middle;\n",
       "    }\n",
       "\n",
       "    .dataframe tbody tr th {\n",
       "        vertical-align: top;\n",
       "    }\n",
       "\n",
       "    .dataframe thead th {\n",
       "        text-align: right;\n",
       "    }\n",
       "</style>\n",
       "<table border=\"1\" class=\"dataframe\">\n",
       "  <thead>\n",
       "    <tr style=\"text-align: right;\">\n",
       "      <th></th>\n",
       "      <th>País</th>\n",
       "      <th>Ano</th>\n",
       "      <th>Litros</th>\n",
       "      <th>Valor</th>\n",
       "      <th>TempAr</th>\n",
       "      <th>Precipitacao</th>\n",
       "      <th>Inflação</th>\n",
       "      <th>PIB_Brasil_Trilhoes</th>\n",
       "      <th>PIB_RS_Trilhoes</th>\n",
       "      <th>USD BRL</th>\n",
       "      <th>ValorPorLitro</th>\n",
       "    </tr>\n",
       "  </thead>\n",
       "  <tbody>\n",
       "    <tr>\n",
       "      <th>0</th>\n",
       "      <td>Afeganistão</td>\n",
       "      <td>2007</td>\n",
       "      <td>0.0</td>\n",
       "      <td>0.0</td>\n",
       "      <td>18.2</td>\n",
       "      <td>0.8</td>\n",
       "      <td>4.46</td>\n",
       "      <td>2.720</td>\n",
       "      <td>0.168</td>\n",
       "      <td>1.95095</td>\n",
       "      <td>NaN</td>\n",
       "    </tr>\n",
       "    <tr>\n",
       "      <th>93</th>\n",
       "      <td>Nova Zelândia</td>\n",
       "      <td>2007</td>\n",
       "      <td>0.0</td>\n",
       "      <td>0.0</td>\n",
       "      <td>18.2</td>\n",
       "      <td>0.8</td>\n",
       "      <td>4.46</td>\n",
       "      <td>2.720</td>\n",
       "      <td>0.168</td>\n",
       "      <td>1.95095</td>\n",
       "      <td>NaN</td>\n",
       "    </tr>\n",
       "    <tr>\n",
       "      <th>92</th>\n",
       "      <td>Nova Caledônia</td>\n",
       "      <td>2007</td>\n",
       "      <td>0.0</td>\n",
       "      <td>0.0</td>\n",
       "      <td>18.2</td>\n",
       "      <td>0.8</td>\n",
       "      <td>4.46</td>\n",
       "      <td>2.720</td>\n",
       "      <td>0.168</td>\n",
       "      <td>1.95095</td>\n",
       "      <td>NaN</td>\n",
       "    </tr>\n",
       "    <tr>\n",
       "      <th>91</th>\n",
       "      <td>Noruega</td>\n",
       "      <td>2007</td>\n",
       "      <td>10044.0</td>\n",
       "      <td>10044.0</td>\n",
       "      <td>18.2</td>\n",
       "      <td>0.8</td>\n",
       "      <td>4.46</td>\n",
       "      <td>2.720</td>\n",
       "      <td>0.168</td>\n",
       "      <td>1.95095</td>\n",
       "      <td>1.0</td>\n",
       "    </tr>\n",
       "    <tr>\n",
       "      <th>90</th>\n",
       "      <td>Nigéria</td>\n",
       "      <td>2007</td>\n",
       "      <td>0.0</td>\n",
       "      <td>0.0</td>\n",
       "      <td>18.2</td>\n",
       "      <td>0.8</td>\n",
       "      <td>4.46</td>\n",
       "      <td>2.720</td>\n",
       "      <td>0.168</td>\n",
       "      <td>1.95095</td>\n",
       "      <td>NaN</td>\n",
       "    </tr>\n",
       "    <tr>\n",
       "      <th>...</th>\n",
       "      <td>...</td>\n",
       "      <td>...</td>\n",
       "      <td>...</td>\n",
       "      <td>...</td>\n",
       "      <td>...</td>\n",
       "      <td>...</td>\n",
       "      <td>...</td>\n",
       "      <td>...</td>\n",
       "      <td>...</td>\n",
       "      <td>...</td>\n",
       "      <td>...</td>\n",
       "    </tr>\n",
       "    <tr>\n",
       "      <th>430</th>\n",
       "      <td>Eslovaca, Republica</td>\n",
       "      <td>2010</td>\n",
       "      <td>0.0</td>\n",
       "      <td>0.0</td>\n",
       "      <td>17.4</td>\n",
       "      <td>0.8</td>\n",
       "      <td>5.91</td>\n",
       "      <td>3.886</td>\n",
       "      <td>0.241</td>\n",
       "      <td>1.76670</td>\n",
       "      <td>NaN</td>\n",
       "    </tr>\n",
       "    <tr>\n",
       "      <th>437</th>\n",
       "      <td>Gana</td>\n",
       "      <td>2010</td>\n",
       "      <td>0.0</td>\n",
       "      <td>0.0</td>\n",
       "      <td>17.4</td>\n",
       "      <td>0.8</td>\n",
       "      <td>5.91</td>\n",
       "      <td>3.886</td>\n",
       "      <td>0.241</td>\n",
       "      <td>1.76670</td>\n",
       "      <td>NaN</td>\n",
       "    </tr>\n",
       "    <tr>\n",
       "      <th>428</th>\n",
       "      <td>Emirados Arabes Unidos</td>\n",
       "      <td>2010</td>\n",
       "      <td>1035.0</td>\n",
       "      <td>3206.0</td>\n",
       "      <td>17.4</td>\n",
       "      <td>0.8</td>\n",
       "      <td>5.91</td>\n",
       "      <td>3.886</td>\n",
       "      <td>0.241</td>\n",
       "      <td>1.76670</td>\n",
       "      <td>3.1</td>\n",
       "    </tr>\n",
       "    <tr>\n",
       "      <th>429</th>\n",
       "      <td>Equador</td>\n",
       "      <td>2010</td>\n",
       "      <td>0.0</td>\n",
       "      <td>0.0</td>\n",
       "      <td>17.4</td>\n",
       "      <td>0.8</td>\n",
       "      <td>5.91</td>\n",
       "      <td>3.886</td>\n",
       "      <td>0.241</td>\n",
       "      <td>1.76670</td>\n",
       "      <td>NaN</td>\n",
       "    </tr>\n",
       "    <tr>\n",
       "      <th>416</th>\n",
       "      <td>Colômbia</td>\n",
       "      <td>2010</td>\n",
       "      <td>0.0</td>\n",
       "      <td>0.0</td>\n",
       "      <td>17.4</td>\n",
       "      <td>0.8</td>\n",
       "      <td>5.91</td>\n",
       "      <td>3.886</td>\n",
       "      <td>0.241</td>\n",
       "      <td>1.76670</td>\n",
       "      <td>NaN</td>\n",
       "    </tr>\n",
       "  </tbody>\n",
       "</table>\n",
       "<p>500 rows × 11 columns</p>\n",
       "</div>"
      ],
      "text/plain": [
       "                       País   Ano   Litros    Valor  TempAr  Precipitacao  \\\n",
       "0               Afeganistão  2007      0.0      0.0    18.2           0.8   \n",
       "93            Nova Zelândia  2007      0.0      0.0    18.2           0.8   \n",
       "92           Nova Caledônia  2007      0.0      0.0    18.2           0.8   \n",
       "91                  Noruega  2007  10044.0  10044.0    18.2           0.8   \n",
       "90                  Nigéria  2007      0.0      0.0    18.2           0.8   \n",
       "..                      ...   ...      ...      ...     ...           ...   \n",
       "430     Eslovaca, Republica  2010      0.0      0.0    17.4           0.8   \n",
       "437                    Gana  2010      0.0      0.0    17.4           0.8   \n",
       "428  Emirados Arabes Unidos  2010   1035.0   3206.0    17.4           0.8   \n",
       "429                 Equador  2010      0.0      0.0    17.4           0.8   \n",
       "416                Colômbia  2010      0.0      0.0    17.4           0.8   \n",
       "\n",
       "     Inflação  PIB_Brasil_Trilhoes  PIB_RS_Trilhoes  USD BRL  ValorPorLitro  \n",
       "0        4.46                2.720            0.168  1.95095            NaN  \n",
       "93       4.46                2.720            0.168  1.95095            NaN  \n",
       "92       4.46                2.720            0.168  1.95095            NaN  \n",
       "91       4.46                2.720            0.168  1.95095            1.0  \n",
       "90       4.46                2.720            0.168  1.95095            NaN  \n",
       "..        ...                  ...              ...      ...            ...  \n",
       "430      5.91                3.886            0.241  1.76670            NaN  \n",
       "437      5.91                3.886            0.241  1.76670            NaN  \n",
       "428      5.91                3.886            0.241  1.76670            3.1  \n",
       "429      5.91                3.886            0.241  1.76670            NaN  \n",
       "416      5.91                3.886            0.241  1.76670            NaN  \n",
       "\n",
       "[500 rows x 11 columns]"
      ]
     },
     "execution_count": 58,
     "metadata": {},
     "output_type": "execute_result"
    }
   ],
   "source": [
    "df_unificado.iloc[0:500]"
   ]
  },
  {
   "cell_type": "code",
   "execution_count": 59,
   "metadata": {},
   "outputs": [],
   "source": [
    "# Salvando o dataframe unificado\n",
    "df_unificado.to_csv('Data/output/base_final.csv', index=False)"
   ]
  }
 ],
 "metadata": {
  "kernelspec": {
   "display_name": "Python 3",
   "language": "python",
   "name": "python3"
  },
  "language_info": {
   "codemirror_mode": {
    "name": "ipython",
    "version": 3
   },
   "file_extension": ".py",
   "mimetype": "text/x-python",
   "name": "python",
   "nbconvert_exporter": "python",
   "pygments_lexer": "ipython3",
   "version": "3.12.3"
  }
 },
 "nbformat": 4,
 "nbformat_minor": 2
}

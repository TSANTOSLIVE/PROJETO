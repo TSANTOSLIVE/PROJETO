{
 "cells": [
  {
   "cell_type": "code",
   "execution_count": 2,
   "id": "aa214d74f15aa949",
   "metadata": {
    "ExecuteTime": {
     "end_time": "2023-10-17T01:31:41.323988Z",
     "start_time": "2023-10-17T01:31:41.300978900Z"
    },
    "collapsed": true
   },
   "outputs": [],
   "source": [
    "import pandas as pd"
   ]
  },
  {
   "cell_type": "code",
   "execution_count": 27,
   "id": "e1e0f867",
   "metadata": {},
   "outputs": [],
   "source": [
    "# FONTE 1:\n",
    "\n",
    "# Importa os dados\n",
    "df_de_para_nome_pais = pd.read_csv('../data/output/de_para_nome_pais.csv', encoding=\"utf-8\")\n",
    "df_meteorologia = pd.read_csv('../data/input/meteorologia/global/Temperature change on land_Global_2000-2024.csv', encoding=\"utf-8\")"
   ]
  },
  {
   "cell_type": "code",
   "execution_count": 28,
   "id": "cd7a4940",
   "metadata": {},
   "outputs": [],
   "source": [
    "# Seleciona apenas a coluna desejada do segundo DataFrame\n",
    "df_de_para_nome_pais = df_de_para_nome_pais[['Nome do País (Inglês)', 'Nome do País (Português)']]\n",
    "\n",
    "# Faz o merge\n",
    "df_meteorologia = df_meteorologia.merge(df_de_para_nome_pais, left_on='Area', right_on='Nome do País (Inglês)', how='left')"
   ]
  },
  {
   "cell_type": "code",
   "execution_count": 39,
   "id": "fb53bbf4",
   "metadata": {},
   "outputs": [],
   "source": [
    "# Pegar somente onde a coluna \"Element\" é igual a \"Temperature change on land\"\n",
    "if 'Element' in df_meteorologia.columns:\n",
    "    df_meteorologia = df_meteorologia[df_meteorologia['Element'] == 'Temperature change']\n",
    "\n",
    "if 'Flag Description' in df_meteorologia.columns:\n",
    "    df_meteorologia = df_meteorologia[df_meteorologia['Flag Description'] == 'Estimated value']"
   ]
  },
  {
   "cell_type": "code",
   "execution_count": 42,
   "id": "ee4f8b3a",
   "metadata": {},
   "outputs": [
    {
     "name": "stdout",
     "output_type": "stream",
     "text": [
      "['Estimated value']\n"
     ]
    }
   ],
   "source": [
    "# todos os tipos de valores na coluna Domain Code\n",
    "print(df_meteorologia['Flag Description'].unique())\n"
   ]
  },
  {
   "cell_type": "code",
   "execution_count": 51,
   "id": "99e9a49d",
   "metadata": {},
   "outputs": [],
   "source": [
    "# Remove coluna Domain Code se existir\n",
    "if 'Domain Code' in df_meteorologia.columns:\n",
    "    df_meteorologia = df_meteorologia.drop(columns=['Domain Code'])\n",
    "\n",
    "if 'Domain' in df_meteorologia.columns:\n",
    "    df_meteorologia = df_meteorologia.drop(columns=['Domain'])\n",
    "\n",
    "if 'Element' in df_meteorologia.columns:\n",
    "    df_meteorologia = df_meteorologia.drop(columns=['Element'])\n",
    "\n",
    "if 'Flag Description' in df_meteorologia.columns:\n",
    "    df_meteorologia = df_meteorologia.drop(columns=['Flag Description'])\n",
    "\n",
    "if 'Area' in df_meteorologia.columns:\n",
    "    df_meteorologia = df_meteorologia.drop(columns=['Area'])\n",
    "\n",
    "if 'Area Code (M49)' in df_meteorologia.columns:\n",
    "    df_meteorologia = df_meteorologia.drop(columns=['Area Code (M49)'])\n",
    "\n",
    "if 'Element Code' in df_meteorologia.columns:\n",
    "    df_meteorologia = df_meteorologia.drop(columns=['Element Code'])\n",
    "\n",
    "if 'Months Code' in df_meteorologia.columns:\n",
    "    df_meteorologia = df_meteorologia.drop(columns=['Months Code'])\n",
    "\n",
    "if 'Unit' in df_meteorologia.columns:\n",
    "    df_meteorologia = df_meteorologia.drop(columns=['Unit'])\n",
    "\n",
    "if 'Flag' in df_meteorologia.columns:\n",
    "    df_meteorologia = df_meteorologia.drop(columns=['Flag'])\n",
    "\n",
    "if 'Year Code' in df_meteorologia.columns:\n",
    "    df_meteorologia = df_meteorologia.drop(columns=['Year Code'])\n"
   ]
  },
  {
   "cell_type": "code",
   "execution_count": 56,
   "id": "006e767f",
   "metadata": {},
   "outputs": [],
   "source": [
    "# Gerar Mediana\n",
    "df_meteorologia_mediana = df_meteorologia.groupby(['Nome do País (Português)', 'Year', 'Nome do País (Inglês)'])['Value'].median().reset_index()"
   ]
  },
  {
   "cell_type": "code",
   "execution_count": 57,
   "id": "d2419b8a",
   "metadata": {},
   "outputs": [
    {
     "data": {
      "text/html": [
       "<div>\n",
       "<style scoped>\n",
       "    .dataframe tbody tr th:only-of-type {\n",
       "        vertical-align: middle;\n",
       "    }\n",
       "\n",
       "    .dataframe tbody tr th {\n",
       "        vertical-align: top;\n",
       "    }\n",
       "\n",
       "    .dataframe thead th {\n",
       "        text-align: right;\n",
       "    }\n",
       "</style>\n",
       "<table border=\"1\" class=\"dataframe\">\n",
       "  <thead>\n",
       "    <tr style=\"text-align: right;\">\n",
       "      <th></th>\n",
       "      <th>Nome do País (Português)</th>\n",
       "      <th>Year</th>\n",
       "      <th>Nome do País (Inglês)</th>\n",
       "      <th>Value</th>\n",
       "    </tr>\n",
       "  </thead>\n",
       "  <tbody>\n",
       "    <tr>\n",
       "      <th>0</th>\n",
       "      <td>Afeganistão</td>\n",
       "      <td>2000</td>\n",
       "      <td>Afghanistan</td>\n",
       "      <td>0.826</td>\n",
       "    </tr>\n",
       "    <tr>\n",
       "      <th>1</th>\n",
       "      <td>Afeganistão</td>\n",
       "      <td>2001</td>\n",
       "      <td>Afghanistan</td>\n",
       "      <td>1.209</td>\n",
       "    </tr>\n",
       "    <tr>\n",
       "      <th>2</th>\n",
       "      <td>Afeganistão</td>\n",
       "      <td>2002</td>\n",
       "      <td>Afghanistan</td>\n",
       "      <td>1.457</td>\n",
       "    </tr>\n",
       "    <tr>\n",
       "      <th>3</th>\n",
       "      <td>Afeganistão</td>\n",
       "      <td>2003</td>\n",
       "      <td>Afghanistan</td>\n",
       "      <td>0.787</td>\n",
       "    </tr>\n",
       "    <tr>\n",
       "      <th>4</th>\n",
       "      <td>Afeganistão</td>\n",
       "      <td>2004</td>\n",
       "      <td>Afghanistan</td>\n",
       "      <td>1.241</td>\n",
       "    </tr>\n",
       "  </tbody>\n",
       "</table>\n",
       "</div>"
      ],
      "text/plain": [
       "  Nome do País (Português)  Year Nome do País (Inglês)  Value\n",
       "0              Afeganistão  2000           Afghanistan  0.826\n",
       "1              Afeganistão  2001           Afghanistan  1.209\n",
       "2              Afeganistão  2002           Afghanistan  1.457\n",
       "3              Afeganistão  2003           Afghanistan  0.787\n",
       "4              Afeganistão  2004           Afghanistan  1.241"
      ]
     },
     "execution_count": 57,
     "metadata": {},
     "output_type": "execute_result"
    }
   ],
   "source": [
    "df_meteorologia_mediana.iloc[0:5]"
   ]
  }
 ],
 "metadata": {
  "kernelspec": {
   "display_name": "Python 3",
   "language": "python",
   "name": "python3"
  },
  "language_info": {
   "codemirror_mode": {
    "name": "ipython",
    "version": 3
   },
   "file_extension": ".py",
   "mimetype": "text/x-python",
   "name": "python",
   "nbconvert_exporter": "python",
   "pygments_lexer": "ipython3",
   "version": "3.12.3"
  }
 },
 "nbformat": 4,
 "nbformat_minor": 5
}

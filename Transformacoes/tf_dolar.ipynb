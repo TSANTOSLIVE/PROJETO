{
 "cells": [
  {
   "cell_type": "code",
   "execution_count": 1,
   "id": "aa214d74f15aa949",
   "metadata": {
    "ExecuteTime": {
     "end_time": "2023-10-17T01:31:41.323988Z",
     "start_time": "2023-10-17T01:31:41.300978900Z"
    },
    "collapsed": true
   },
   "outputs": [],
   "source": [
    "import pandas as pd"
   ]
  },
  {
   "cell_type": "code",
   "execution_count": 46,
   "id": "e1e0f867",
   "metadata": {},
   "outputs": [],
   "source": [
    "# FONTE: http://www.ipeadata.gov.br/ExibeSerie.aspx?serid=31924\n",
    "\n",
    "# Importa os dados\n",
    "df_dolar = pd.read_csv('../data/input/moeda/dolar_mensal.csv', sep=';', encoding=\"ISO-8859-1\", decimal=',')"
   ]
  },
  {
   "cell_type": "code",
   "execution_count": 47,
   "id": "a42eec62",
   "metadata": {},
   "outputs": [],
   "source": [
    "# Renomeia as colunas\n",
    "df_dolar= df_dolar.rename(columns={'YEAR': 'Ano'})"
   ]
  },
  {
   "cell_type": "code",
   "execution_count": 48,
   "id": "cf84cf9870abd753",
   "metadata": {
    "ExecuteTime": {
     "end_time": "2023-10-17T01:31:41.372213100Z",
     "start_time": "2023-10-17T01:31:41.348464400Z"
    },
    "collapsed": false
   },
   "outputs": [],
   "source": [
    "# Corrigindo o nome das colunas\n",
    "df_dolar = df_dolar.melt(id_vars=['Ano'],var_name='Mes', value_name='USD BRL')"
   ]
  },
  {
   "cell_type": "code",
   "execution_count": 50,
   "id": "86f60bfd",
   "metadata": {},
   "outputs": [],
   "source": [
    "# Removendo Coluna Mes\n",
    "df_dolar = df_dolar.drop(columns=['Mes'])"
   ]
  },
  {
   "cell_type": "code",
   "execution_count": 51,
   "id": "eadade6f",
   "metadata": {},
   "outputs": [],
   "source": [
    "# Mediana da coluna USD BRL por Ano\n",
    "df_dolar = df_dolar.groupby('Ano').median().reset_index()"
   ]
  },
  {
   "cell_type": "code",
   "execution_count": 54,
   "id": "1e023e541d068897",
   "metadata": {
    "ExecuteTime": {
     "end_time": "2023-10-17T01:31:41.481026900Z",
     "start_time": "2023-10-17T01:31:41.414275400Z"
    },
    "collapsed": false
   },
   "outputs": [],
   "source": [
    "df_dolar.to_csv('../data/output/dolar_mediana_ano.csv', index=False, encoding=\"utf-8\") "
   ]
  }
 ],
 "metadata": {
  "kernelspec": {
   "display_name": "Python 3",
   "language": "python",
   "name": "python3"
  },
  "language_info": {
   "codemirror_mode": {
    "name": "ipython",
    "version": 3
   },
   "file_extension": ".py",
   "mimetype": "text/x-python",
   "name": "python",
   "nbconvert_exporter": "python",
   "pygments_lexer": "ipython3",
   "version": "3.12.3"
  }
 },
 "nbformat": 4,
 "nbformat_minor": 5
}

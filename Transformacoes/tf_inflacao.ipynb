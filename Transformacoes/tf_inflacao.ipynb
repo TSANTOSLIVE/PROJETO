{
 "cells": [
  {
   "cell_type": "code",
   "execution_count": 31,
   "id": "aa214d74f15aa949",
   "metadata": {
    "ExecuteTime": {
     "end_time": "2023-10-17T01:31:41.323988Z",
     "start_time": "2023-10-17T01:31:41.300978900Z"
    },
    "collapsed": true
   },
   "outputs": [],
   "source": [
    "import pandas as pd"
   ]
  },
  {
   "cell_type": "code",
   "execution_count": 32,
   "id": "e1e0f867",
   "metadata": {},
   "outputs": [],
   "source": [
    "#Fonte: https://sidra.ibge.gov.br/tabela/1737 \n",
    "\n",
    "# Importa os dados\n",
    "df_inflacao = pd.read_csv('../data/input/inflacao/inflacao.csv', sep=',' , skiprows=3, index_col=0)"
   ]
  },
  {
   "cell_type": "code",
   "execution_count": 33,
   "id": "89ee0593",
   "metadata": {},
   "outputs": [],
   "source": [
    "df_inflacao = df_inflacao.iloc[0].reset_index()\n",
    "df_melted = df_inflacao.melt(id_vars='index', var_name='Data', value_name='Valor')"
   ]
  },
  {
   "cell_type": "code",
   "execution_count": 34,
   "id": "d021538a",
   "metadata": {},
   "outputs": [],
   "source": [
    "# quenra coluna \"index\" em duas, sendo seu conteudo como \"dezembro 1979\", devera ser dividido em \"dezembro\" e \"1979\"\n",
    "df_melted[['Mes', 'Ano']] = df_melted['index'].str.split(' ', expand=True)"
   ]
  },
  {
   "cell_type": "code",
   "execution_count": 35,
   "id": "8a70f398",
   "metadata": {},
   "outputs": [],
   "source": [
    "# remove coluna index e Data se existir\n",
    "if 'index' in df_melted.columns:\n",
    "    df_melted.drop(columns=['index'], inplace=True)\n",
    "if 'Data' in df_melted.columns:\n",
    "    df_melted.drop(columns=['Data'], inplace=True)"
   ]
  },
  {
   "cell_type": "code",
   "execution_count": 36,
   "id": "6361bb1c",
   "metadata": {},
   "outputs": [
    {
     "data": {
      "text/html": [
       "<div>\n",
       "<style scoped>\n",
       "    .dataframe tbody tr th:only-of-type {\n",
       "        vertical-align: middle;\n",
       "    }\n",
       "\n",
       "    .dataframe tbody tr th {\n",
       "        vertical-align: top;\n",
       "    }\n",
       "\n",
       "    .dataframe thead th {\n",
       "        text-align: right;\n",
       "    }\n",
       "</style>\n",
       "<table border=\"1\" class=\"dataframe\">\n",
       "  <thead>\n",
       "    <tr style=\"text-align: right;\">\n",
       "      <th></th>\n",
       "      <th>Valor</th>\n",
       "      <th>Mes</th>\n",
       "      <th>Ano</th>\n",
       "    </tr>\n",
       "  </thead>\n",
       "  <tbody>\n",
       "    <tr>\n",
       "      <th>0</th>\n",
       "      <td>...</td>\n",
       "      <td>dezembro</td>\n",
       "      <td>1979</td>\n",
       "    </tr>\n",
       "    <tr>\n",
       "      <th>12</th>\n",
       "      <td>99.25</td>\n",
       "      <td>dezembro</td>\n",
       "      <td>1980</td>\n",
       "    </tr>\n",
       "    <tr>\n",
       "      <th>24</th>\n",
       "      <td>95.62</td>\n",
       "      <td>dezembro</td>\n",
       "      <td>1981</td>\n",
       "    </tr>\n",
       "    <tr>\n",
       "      <th>36</th>\n",
       "      <td>104.79</td>\n",
       "      <td>dezembro</td>\n",
       "      <td>1982</td>\n",
       "    </tr>\n",
       "    <tr>\n",
       "      <th>48</th>\n",
       "      <td>164.01</td>\n",
       "      <td>dezembro</td>\n",
       "      <td>1983</td>\n",
       "    </tr>\n",
       "  </tbody>\n",
       "</table>\n",
       "</div>"
      ],
      "text/plain": [
       "     Valor       Mes   Ano\n",
       "0      ...  dezembro  1979\n",
       "12   99.25  dezembro  1980\n",
       "24   95.62  dezembro  1981\n",
       "36  104.79  dezembro  1982\n",
       "48  164.01  dezembro  1983"
      ]
     },
     "execution_count": 36,
     "metadata": {},
     "output_type": "execute_result"
    }
   ],
   "source": [
    "# filtrar coluna mes com \"dezembro\"\n",
    "df_melted = df_melted[df_melted['Mes'] == 'dezembro']\n",
    "df_melted.iloc[0:5]"
   ]
  },
  {
   "cell_type": "code",
   "execution_count": 37,
   "id": "a1c7063f",
   "metadata": {},
   "outputs": [],
   "source": [
    "if 'Mes' in df_melted.columns:\n",
    "    df_melted.drop(columns=['Mes'], inplace=True)"
   ]
  },
  {
   "cell_type": "code",
   "execution_count": 38,
   "id": "736cdb78",
   "metadata": {},
   "outputs": [],
   "source": [
    "# Renomeia as colunas\n",
    "df_melted= df_melted.rename(columns={'Valor': 'Inflação'})"
   ]
  },
  {
   "cell_type": "code",
   "execution_count": 39,
   "id": "0681d48f",
   "metadata": {},
   "outputs": [],
   "source": [
    "# Ordena colunas\n",
    "df_melted = df_melted[['Ano', 'Inflação']]"
   ]
  },
  {
   "cell_type": "code",
   "execution_count": 43,
   "id": "167a02e9",
   "metadata": {},
   "outputs": [],
   "source": [
    "# tipar coluna Ano como float\n",
    "df_melted['Inflação'] = pd.to_numeric(df_melted['Inflação'], errors='coerce')"
   ]
  },
  {
   "cell_type": "code",
   "execution_count": 45,
   "id": "8de6c88d",
   "metadata": {},
   "outputs": [],
   "source": [
    "# salva arquivo\n",
    "df_melted.to_csv('../data/output/inflacao_brasil.csv', index=False, sep=';', decimal=',')"
   ]
  },
  {
   "cell_type": "code",
   "execution_count": 44,
   "id": "f534a4e8",
   "metadata": {},
   "outputs": [
    {
     "data": {
      "text/html": [
       "<div>\n",
       "<style scoped>\n",
       "    .dataframe tbody tr th:only-of-type {\n",
       "        vertical-align: middle;\n",
       "    }\n",
       "\n",
       "    .dataframe tbody tr th {\n",
       "        vertical-align: top;\n",
       "    }\n",
       "\n",
       "    .dataframe thead th {\n",
       "        text-align: right;\n",
       "    }\n",
       "</style>\n",
       "<table border=\"1\" class=\"dataframe\">\n",
       "  <thead>\n",
       "    <tr style=\"text-align: right;\">\n",
       "      <th></th>\n",
       "      <th>Ano</th>\n",
       "      <th>Inflação</th>\n",
       "    </tr>\n",
       "  </thead>\n",
       "  <tbody>\n",
       "    <tr>\n",
       "      <th>0</th>\n",
       "      <td>1979</td>\n",
       "      <td>NaN</td>\n",
       "    </tr>\n",
       "    <tr>\n",
       "      <th>12</th>\n",
       "      <td>1980</td>\n",
       "      <td>99.25</td>\n",
       "    </tr>\n",
       "    <tr>\n",
       "      <th>24</th>\n",
       "      <td>1981</td>\n",
       "      <td>95.62</td>\n",
       "    </tr>\n",
       "    <tr>\n",
       "      <th>36</th>\n",
       "      <td>1982</td>\n",
       "      <td>104.79</td>\n",
       "    </tr>\n",
       "    <tr>\n",
       "      <th>48</th>\n",
       "      <td>1983</td>\n",
       "      <td>164.01</td>\n",
       "    </tr>\n",
       "  </tbody>\n",
       "</table>\n",
       "</div>"
      ],
      "text/plain": [
       "     Ano  Inflação\n",
       "0   1979       NaN\n",
       "12  1980     99.25\n",
       "24  1981     95.62\n",
       "36  1982    104.79\n",
       "48  1983    164.01"
      ]
     },
     "execution_count": 44,
     "metadata": {},
     "output_type": "execute_result"
    }
   ],
   "source": [
    "df_melted.iloc[0:5]"
   ]
  }
 ],
 "metadata": {
  "kernelspec": {
   "display_name": "Python 3",
   "language": "python",
   "name": "python3"
  },
  "language_info": {
   "codemirror_mode": {
    "name": "ipython",
    "version": 3
   },
   "file_extension": ".py",
   "mimetype": "text/x-python",
   "name": "python",
   "nbconvert_exporter": "python",
   "pygments_lexer": "ipython3",
   "version": "3.12.3"
  }
 },
 "nbformat": 4,
 "nbformat_minor": 5
}

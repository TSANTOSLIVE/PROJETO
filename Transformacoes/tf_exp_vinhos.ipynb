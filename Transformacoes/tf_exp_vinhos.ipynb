{
 "cells": [
  {
   "cell_type": "code",
   "execution_count": 31,
   "metadata": {},
   "outputs": [],
   "source": [
    "import pandas as pd"
   ]
  },
  {
   "cell_type": "code",
   "execution_count": 32,
   "metadata": {},
   "outputs": [],
   "source": [
    "# FONTE: http://vitibrasil.cnpuv.embrapa.br/index.php?opcao=opt_06\n",
    "\n",
    "# Importação de dados\n",
    "df_exp_vinhos  = pd.read_csv('../Data/input/Exportacao/ExpVinho.csv', sep=';', encoding=\"utf-8\", decimal=',')"
   ]
  },
  {
   "cell_type": "code",
   "execution_count": 33,
   "metadata": {},
   "outputs": [],
   "source": [
    "# Amazenando os dados PIVOTADOS\n",
    "dfs_litro = []\n",
    "dfs_valor = []\n",
    "\n",
    "#Adicionando a coluna de Ano e pivotando os dados\n",
    "for col in df_exp_vinhos.columns:\n",
    "    if col.startswith('19') or col.startswith('20'):\n",
    "        ano = col.split('.')[0]\n",
    "        litro_col = col\n",
    "        valor_col = col + '.1'\n",
    "        if litro_col in df_exp_vinhos.columns and valor_col in df_exp_vinhos.columns:\n",
    "            df_litro = df_exp_vinhos[['Id', 'País', litro_col]].rename(columns={litro_col: 'Litros'})\n",
    "            df_valor = df_exp_vinhos[['Id', 'País', valor_col]].rename(columns={valor_col: 'Valor'})\n",
    "            df_litro['Ano'] = ano\n",
    "            df_valor['Ano'] = ano\n",
    "            dfs_litro.append(df_litro)\n",
    "            dfs_valor.append(df_valor)"
   ]
  },
  {
   "cell_type": "code",
   "execution_count": 34,
   "metadata": {},
   "outputs": [],
   "source": [
    "#Juntando os dados para um unico df\n",
    "df_final_litro = pd.concat(dfs_litro)\n",
    "df_final_valor = pd.concat(dfs_valor)"
   ]
  },
  {
   "cell_type": "code",
   "execution_count": 35,
   "metadata": {},
   "outputs": [],
   "source": [
    "#Combinando os DF\n",
    "df_exp_vinhos_ajustado = pd.merge(df_final_litro, df_final_valor, on=[\"Id\", \"País\", \"Ano\"])[['Id', 'País', 'Ano', 'Litros', 'Valor']]"
   ]
  },
  {
   "cell_type": "code",
   "execution_count": 39,
   "metadata": {},
   "outputs": [],
   "source": [
    "df_exp_vinhos_ajustado['Litros'] = df_exp_vinhos_ajustado['Litros'].astype(str).str.replace(',', '.').astype(float)\n",
    "df_exp_vinhos_ajustado['Valor'] = df_exp_vinhos_ajustado['Valor'].astype(str).str.replace(',', '.').astype(float)\n"
   ]
  },
  {
   "cell_type": "code",
   "execution_count": 41,
   "metadata": {},
   "outputs": [
    {
     "data": {
      "text/plain": [
       "Index(['País', 'Ano', 'Litros', 'Valor'], dtype='object')"
      ]
     },
     "execution_count": 41,
     "metadata": {},
     "output_type": "execute_result"
    }
   ],
   "source": [
    "# Se existir a coluna ID, remover\n",
    "if 'Id' in df_exp_vinhos_ajustado.columns:\n",
    "    df_exp_vinhos_ajustado.drop('Id', axis=1, inplace=True)"
   ]
  },
  {
   "cell_type": "code",
   "execution_count": 43,
   "metadata": {},
   "outputs": [],
   "source": [
    "df_exp_vinhos_ajustado.to_csv('../Data/output/exportacao_vinhos.csv', index=False, encoding=\"UTF-8\")"
   ]
  }
 ],
 "metadata": {
  "kernelspec": {
   "display_name": ".venv",
   "language": "python",
   "name": "python3"
  },
  "language_info": {
   "codemirror_mode": {
    "name": "ipython",
    "version": 3
   },
   "file_extension": ".py",
   "mimetype": "text/x-python",
   "name": "python",
   "nbconvert_exporter": "python",
   "pygments_lexer": "ipython3",
   "version": "3.12.3"
  }
 },
 "nbformat": 4,
 "nbformat_minor": 2
}

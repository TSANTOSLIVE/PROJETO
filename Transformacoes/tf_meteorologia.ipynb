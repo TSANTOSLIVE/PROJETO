{
 "cells": [
  {
   "cell_type": "code",
   "execution_count": 1,
   "metadata": {},
   "outputs": [],
   "source": [
    "import pandas as pd\n",
    "import numpy as np"
   ]
  },
  {
   "cell_type": "code",
   "execution_count": 3,
   "metadata": {},
   "outputs": [],
   "source": [
    "# FONTE: https://portal.inmet.gov.br/dadoshistoricos   BENTO GONCALVES - RS\n",
    "\n",
    "# carregando varios arquivos csv e adicionando uma coluna com o nome do arquivo\n",
    "arquivos_csv = []\n",
    "\n",
    "for i in range(2007, 2023): \n",
    "    arquivos_csv.append(f'../Data/input/Meteorologia/Bento Goncalves/INMET_S_RS_A840_BENTO GONCALVES_01-01-{i}_A_31-12-{i}.csv')\n",
    "\n",
    "df = pd.concat([pd.read_csv(f,sep=';', skiprows=9, encoding='latin1', header=None, usecols=lambda column : column != 19).assign(arquivo=f) for f in arquivos_csv ])\n"
   ]
  },
  {
   "cell_type": "code",
   "execution_count": 4,
   "metadata": {},
   "outputs": [],
   "source": [
    "# Definindo o nome das colunas\n",
    "df.columns = ['Data', 'Hora', 'Precipitacao', 'PressaoAtmEstacao', 'PressaoAtmMax', 'PressaoAtmMin', 'RadiacaoGlobal', 'TempAr', 'TempPontoOrvalho', 'TempMax', 'TempMin', 'TempOrvalhoMax', 'TempOrvalhoMin', 'UmidadeRelMax', 'UmidadeRelMin', 'UmidadeRel', 'VentoDir', 'VentoRajadaMax', 'VentoVelocidade', 'Arquivo']"
   ]
  },
  {
   "cell_type": "code",
   "execution_count": 5,
   "metadata": {},
   "outputs": [],
   "source": [
    "df['Data'] = pd.to_datetime(df['Data'].replace('/', '-', regex=True))"
   ]
  },
  {
   "cell_type": "code",
   "execution_count": 6,
   "metadata": {},
   "outputs": [],
   "source": [
    "columns = ['Precipitacao', 'PressaoAtmEstacao', 'PressaoAtmMax', 'PressaoAtmMin', 'RadiacaoGlobal', 'TempAr', 'TempPontoOrvalho', 'TempMax', 'TempMin', 'TempOrvalhoMax', 'TempOrvalhoMin', 'UmidadeRelMax', 'UmidadeRelMin', 'UmidadeRel', 'VentoDir', 'VentoRajadaMax', 'VentoVelocidade']\n",
    "for column in columns:    \n",
    "    df[column] = pd.to_numeric(df[column].replace(',', '.', regex=True).astype(float), errors='coerce')\n",
    "    df[column] = df[column].replace(-9999, np.nan)\n",
    "    df[column] = df[column].replace(0, np.nan)"
   ]
  },
  {
   "cell_type": "code",
   "execution_count": 7,
   "metadata": {},
   "outputs": [],
   "source": [
    "df['Ano'] = df['Data'].dt.year\n",
    "\n",
    "# pegar semestre\n",
    "df['Semestre'] = np.where(df['Data'].dt.month < 7, 1, 2)"
   ]
  },
  {
   "cell_type": "code",
   "execution_count": 8,
   "metadata": {},
   "outputs": [],
   "source": [
    "# agrupar por ano, semestre e arquivo e calcular a média, min e max\n",
    "df_media = df.groupby(['Ano','Semestre', 'Arquivo'])[columns].agg(['median', 'mean', 'min', 'max']).reset_index()\n"
   ]
  },
  {
   "cell_type": "code",
   "execution_count": 10,
   "metadata": {},
   "outputs": [],
   "source": [
    "# salvando o arquivo\n",
    "df_media.to_csv('../Data/output/Meteorologia_Semestre.csv', index=False)"
   ]
  },
  {
   "cell_type": "code",
   "execution_count": 11,
   "metadata": {},
   "outputs": [],
   "source": [
    "# agrupar por ano, semestre e arquivo e calcular a média, min e max\n",
    "df_media_ano = df.drop(columns='Semestre').groupby(['Ano', 'Arquivo'])[columns].median().reset_index()\n"
   ]
  },
  {
   "cell_type": "code",
   "execution_count": 12,
   "metadata": {},
   "outputs": [],
   "source": [
    "# salvando o arquivo\n",
    "df_media_ano.to_csv('../Data/output/Meteorologia_Ano_mediana.csv', index=False)"
   ]
  }
 ],
 "metadata": {
  "kernelspec": {
   "display_name": "Python 3",
   "language": "python",
   "name": "python3"
  },
  "language_info": {
   "codemirror_mode": {
    "name": "ipython",
    "version": 3
   },
   "file_extension": ".py",
   "mimetype": "text/x-python",
   "name": "python",
   "nbconvert_exporter": "python",
   "pygments_lexer": "ipython3",
   "version": "3.12.3"
  }
 },
 "nbformat": 4,
 "nbformat_minor": 2
}

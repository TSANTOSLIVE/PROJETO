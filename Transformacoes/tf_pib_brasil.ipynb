{
 "cells": [
  {
   "cell_type": "code",
   "execution_count": 6,
   "id": "aa214d74f15aa949",
   "metadata": {
    "ExecuteTime": {
     "end_time": "2023-10-17T01:31:41.323988Z",
     "start_time": "2023-10-17T01:31:41.300978900Z"
    },
    "collapsed": true
   },
   "outputs": [
    {
     "name": "stdout",
     "output_type": "stream",
     "text": [
      "Collecting xlrd\n",
      "  Using cached xlrd-2.0.1-py2.py3-none-any.whl.metadata (3.4 kB)\n",
      "Using cached xlrd-2.0.1-py2.py3-none-any.whl (96 kB)\n",
      "Installing collected packages: xlrd\n",
      "Successfully installed xlrd-2.0.1\n",
      "Note: you may need to restart the kernel to use updated packages.\n"
     ]
    }
   ],
   "source": [
    "import pandas as pd\n",
    "import xlrd\n"
   ]
  },
  {
   "cell_type": "code",
   "execution_count": 19,
   "id": "e1e0f867",
   "metadata": {},
   "outputs": [],
   "source": [
    "# Importa os dados\n",
    "df_pbi_brasil = pd.read_excel('../data/input/pib/brasil.xls')"
   ]
  },
  {
   "cell_type": "code",
   "execution_count": 20,
   "id": "6a788e47",
   "metadata": {},
   "outputs": [],
   "source": [
    "# remover coluna Serie se existir\n",
    "if 'Série' in df_pbi_brasil.columns:\n",
    "    df_pbi_brasil.drop('Série', axis=1, inplace=True)"
   ]
  },
  {
   "cell_type": "code",
   "execution_count": 21,
   "id": "d5e8736e",
   "metadata": {},
   "outputs": [],
   "source": [
    "# remover linhas com Nan em Ano\n",
    "df_pbi_brasil.dropna(subset=['Ano'], inplace=True)"
   ]
  },
  {
   "cell_type": "code",
   "execution_count": null,
   "id": "ae2f3362",
   "metadata": {},
   "outputs": [],
   "source": [
    "# remover coluna 'Produto Interno Bruto (PIB) - variação em volume' e 'PIB per capita em valores correntes'"
   ]
  },
  {
   "cell_type": "code",
   "execution_count": 23,
   "id": "db399634",
   "metadata": {},
   "outputs": [],
   "source": [
    "# converter Ano para inteiro\n",
    "df_pbi_brasil['Ano'] = df_pbi_brasil['Ano'].astype(int)"
   ]
  },
  {
   "cell_type": "code",
   "execution_count": 24,
   "id": "7744ef3a",
   "metadata": {},
   "outputs": [
    {
     "data": {
      "text/html": [
       "<div>\n",
       "<style scoped>\n",
       "    .dataframe tbody tr th:only-of-type {\n",
       "        vertical-align: middle;\n",
       "    }\n",
       "\n",
       "    .dataframe tbody tr th {\n",
       "        vertical-align: top;\n",
       "    }\n",
       "\n",
       "    .dataframe thead th {\n",
       "        text-align: right;\n",
       "    }\n",
       "</style>\n",
       "<table border=\"1\" class=\"dataframe\">\n",
       "  <thead>\n",
       "    <tr style=\"text-align: right;\">\n",
       "      <th></th>\n",
       "      <th>Ano</th>\n",
       "      <th>Produto Interno Bruto (PIB) - variação em volume</th>\n",
       "      <th>PIB valores correntes em 1.000.000</th>\n",
       "      <th>PIB per capita em valores correntes</th>\n",
       "    </tr>\n",
       "  </thead>\n",
       "  <tbody>\n",
       "    <tr>\n",
       "      <th>0</th>\n",
       "      <td>1947</td>\n",
       "      <td>-</td>\n",
       "      <td>1.790000e+02</td>\n",
       "      <td>3725.420000</td>\n",
       "    </tr>\n",
       "    <tr>\n",
       "      <th>1</th>\n",
       "      <td>1948</td>\n",
       "      <td>9.7</td>\n",
       "      <td>2.070000e+02</td>\n",
       "      <td>4216.730000</td>\n",
       "    </tr>\n",
       "    <tr>\n",
       "      <th>2</th>\n",
       "      <td>1949</td>\n",
       "      <td>7.7</td>\n",
       "      <td>2.420000e+02</td>\n",
       "      <td>4787.540000</td>\n",
       "    </tr>\n",
       "    <tr>\n",
       "      <th>3</th>\n",
       "      <td>1950</td>\n",
       "      <td>6.8</td>\n",
       "      <td>2.820000e+02</td>\n",
       "      <td>5419.510000</td>\n",
       "    </tr>\n",
       "    <tr>\n",
       "      <th>4</th>\n",
       "      <td>1951</td>\n",
       "      <td>4.9</td>\n",
       "      <td>3.490000e+02</td>\n",
       "      <td>6528.660000</td>\n",
       "    </tr>\n",
       "    <tr>\n",
       "      <th>...</th>\n",
       "      <td>...</td>\n",
       "      <td>...</td>\n",
       "      <td>...</td>\n",
       "      <td>...</td>\n",
       "    </tr>\n",
       "    <tr>\n",
       "      <th>65</th>\n",
       "      <td>2012</td>\n",
       "      <td>1.921176</td>\n",
       "      <td>4.814760e+06</td>\n",
       "      <td>24165.330782</td>\n",
       "    </tr>\n",
       "    <tr>\n",
       "      <th>66</th>\n",
       "      <td>2013</td>\n",
       "      <td>3.004823</td>\n",
       "      <td>5.331619e+06</td>\n",
       "      <td>26521.151179</td>\n",
       "    </tr>\n",
       "    <tr>\n",
       "      <th>67</th>\n",
       "      <td>2014</td>\n",
       "      <td>0.503956</td>\n",
       "      <td>5.778953e+06</td>\n",
       "      <td>28500.241571</td>\n",
       "    </tr>\n",
       "    <tr>\n",
       "      <th>68</th>\n",
       "      <td>2015</td>\n",
       "      <td>-3.769256</td>\n",
       "      <td>6.000570e+06</td>\n",
       "      <td>29117.472651</td>\n",
       "    </tr>\n",
       "    <tr>\n",
       "      <th>69</th>\n",
       "      <td>2016</td>\n",
       "      <td>-3.594739</td>\n",
       "      <td>6.266895e+06</td>\n",
       "      <td>30407.000000</td>\n",
       "    </tr>\n",
       "  </tbody>\n",
       "</table>\n",
       "<p>70 rows × 4 columns</p>\n",
       "</div>"
      ],
      "text/plain": [
       "     Ano Produto Interno Bruto (PIB) - variação em volume  \\\n",
       "0   1947                                                -   \n",
       "1   1948                                              9.7   \n",
       "2   1949                                              7.7   \n",
       "3   1950                                              6.8   \n",
       "4   1951                                              4.9   \n",
       "..   ...                                              ...   \n",
       "65  2012                                         1.921176   \n",
       "66  2013                                         3.004823   \n",
       "67  2014                                         0.503956   \n",
       "68  2015                                        -3.769256   \n",
       "69  2016                                        -3.594739   \n",
       "\n",
       "    PIB valores correntes em 1.000.000  PIB per capita em valores correntes  \n",
       "0                         1.790000e+02                          3725.420000  \n",
       "1                         2.070000e+02                          4216.730000  \n",
       "2                         2.420000e+02                          4787.540000  \n",
       "3                         2.820000e+02                          5419.510000  \n",
       "4                         3.490000e+02                          6528.660000  \n",
       "..                                 ...                                  ...  \n",
       "65                        4.814760e+06                         24165.330782  \n",
       "66                        5.331619e+06                         26521.151179  \n",
       "67                        5.778953e+06                         28500.241571  \n",
       "68                        6.000570e+06                         29117.472651  \n",
       "69                        6.266895e+06                         30407.000000  \n",
       "\n",
       "[70 rows x 4 columns]"
      ]
     },
     "execution_count": 24,
     "metadata": {},
     "output_type": "execute_result"
    }
   ],
   "source": [
    "df_pbi_brasil.iloc[0:500]"
   ]
  },
  {
   "cell_type": "code",
   "execution_count": null,
   "id": "83fefff0",
   "metadata": {},
   "outputs": [],
   "source": []
  }
 ],
 "metadata": {
  "kernelspec": {
   "display_name": "Python 3",
   "language": "python",
   "name": "python3"
  },
  "language_info": {
   "codemirror_mode": {
    "name": "ipython",
    "version": 3
   },
   "file_extension": ".py",
   "mimetype": "text/x-python",
   "name": "python",
   "nbconvert_exporter": "python",
   "pygments_lexer": "ipython3",
   "version": "3.12.3"
  }
 },
 "nbformat": 4,
 "nbformat_minor": 5
}

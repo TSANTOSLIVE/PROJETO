{
 "cells": [
  {
   "cell_type": "code",
   "execution_count": 1,
   "id": "aa214d74f15aa949",
   "metadata": {
    "ExecuteTime": {
     "end_time": "2023-10-17T01:31:41.323988Z",
     "start_time": "2023-10-17T01:31:41.300978900Z"
    },
    "collapsed": true
   },
   "outputs": [
    {
     "name": "stdout",
     "output_type": "stream",
     "text": [
      "Requirement already satisfied: openpyxl in c:\\users\\ti_ag\\source\\repo\\projeto\\.venv\\lib\\site-packages (3.1.2)\n",
      "Requirement already satisfied: et-xmlfile in c:\\users\\ti_ag\\source\\repo\\projeto\\.venv\\lib\\site-packages (from openpyxl) (1.1.0)\n",
      "Note: you may need to restart the kernel to use updated packages.\n"
     ]
    }
   ],
   "source": [
    "import pandas as pd\n",
    "import xlrd"
   ]
  },
  {
   "cell_type": "code",
   "execution_count": 2,
   "id": "e1e0f867",
   "metadata": {},
   "outputs": [],
   "source": [
    "# FONTE: https://sei.ba.gov.br/index.php?option=com_content&view=article&id=137&Itemid=1143&lang=pt\n",
    "\n",
    "# Importa os dados, pulando as duas primeiras linhas, usando a 4 a 6 como cabeçalho e a primeira coluna como index\n",
    "df = pd.read_excel('../data/input/pib/brasil.xlsx', skiprows=1, header=[1,2,3,4], index_col=0)"
   ]
  },
  {
   "cell_type": "code",
   "execution_count": 4,
   "id": "f32d3e8b",
   "metadata": {},
   "outputs": [],
   "source": [
    "# initialize df_novo DataFrame outside the loop\n",
    "df_novo = pd.DataFrame()\n",
    "\n",
    "# loop de anos, iniando em 2000 a 2021\n",
    "for ano in range(2002, 2022):\n",
    "    # criando novo df com os dados do ano\n",
    "    coluna = (ano, 'Produto Interno Bruto', '1 000 000 R$', 'Preços\\ncorrentes')\n",
    "    \n",
    "    # Cria um novo DataFrame com as informações que você deseja adicionar\n",
    "    df_to_append = pd.DataFrame({'Ano': [ano], 'Valor': [df[coluna].loc['Rio Grande do Sul']]})\n",
    "\n",
    "    # Adiciona o novo DataFrame ao DataFrame principal\n",
    "    df_novo = pd.concat([df_novo, df_to_append], ignore_index=True)"
   ]
  },
  {
   "cell_type": "code",
   "execution_count": 5,
   "id": "b3d98fd8",
   "metadata": {},
   "outputs": [],
   "source": [
    "# mutiplicar por 1.000.000\n",
    "df_novo['Valor'] = (df_novo['Valor'] * 1000000).round(2)"
   ]
  },
  {
   "cell_type": "code",
   "execution_count": 6,
   "id": "f636f518",
   "metadata": {},
   "outputs": [],
   "source": [
    "# salvar arquivo\n",
    "df_novo.to_csv('../data/output/pib_rs.csv', index=False, sep=';', decimal=',')"
   ]
  },
  {
   "cell_type": "code",
   "execution_count": 7,
   "id": "0c3d3640",
   "metadata": {},
   "outputs": [
    {
     "data": {
      "text/html": [
       "<div>\n",
       "<style scoped>\n",
       "    .dataframe tbody tr th:only-of-type {\n",
       "        vertical-align: middle;\n",
       "    }\n",
       "\n",
       "    .dataframe tbody tr th {\n",
       "        vertical-align: top;\n",
       "    }\n",
       "\n",
       "    .dataframe thead th {\n",
       "        text-align: right;\n",
       "    }\n",
       "</style>\n",
       "<table border=\"1\" class=\"dataframe\">\n",
       "  <thead>\n",
       "    <tr style=\"text-align: right;\">\n",
       "      <th></th>\n",
       "      <th>Ano</th>\n",
       "      <th>Valor</th>\n",
       "    </tr>\n",
       "  </thead>\n",
       "  <tbody>\n",
       "    <tr>\n",
       "      <th>0</th>\n",
       "      <td>2002</td>\n",
       "      <td>9.884721e+10</td>\n",
       "    </tr>\n",
       "    <tr>\n",
       "      <th>1</th>\n",
       "      <td>2003</td>\n",
       "      <td>1.193254e+11</td>\n",
       "    </tr>\n",
       "    <tr>\n",
       "      <th>2</th>\n",
       "      <td>2004</td>\n",
       "      <td>1.311922e+11</td>\n",
       "    </tr>\n",
       "    <tr>\n",
       "      <th>3</th>\n",
       "      <td>2005</td>\n",
       "      <td>1.363628e+11</td>\n",
       "    </tr>\n",
       "    <tr>\n",
       "      <th>4</th>\n",
       "      <td>2006</td>\n",
       "      <td>1.476226e+11</td>\n",
       "    </tr>\n",
       "  </tbody>\n",
       "</table>\n",
       "</div>"
      ],
      "text/plain": [
       "    Ano         Valor\n",
       "0  2002  9.884721e+10\n",
       "1  2003  1.193254e+11\n",
       "2  2004  1.311922e+11\n",
       "3  2005  1.363628e+11\n",
       "4  2006  1.476226e+11"
      ]
     },
     "execution_count": 7,
     "metadata": {},
     "output_type": "execute_result"
    }
   ],
   "source": [
    "df_novo.iloc[0:5]"
   ]
  }
 ],
 "metadata": {
  "kernelspec": {
   "display_name": "Python 3",
   "language": "python",
   "name": "python3"
  },
  "language_info": {
   "codemirror_mode": {
    "name": "ipython",
    "version": 3
   },
   "file_extension": ".py",
   "mimetype": "text/x-python",
   "name": "python",
   "nbconvert_exporter": "python",
   "pygments_lexer": "ipython3",
   "version": "3.12.3"
  }
 },
 "nbformat": 4,
 "nbformat_minor": 5
}
